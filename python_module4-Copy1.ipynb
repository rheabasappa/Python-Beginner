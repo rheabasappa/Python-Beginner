{
 "cells": [
  {
   "cell_type": "code",
   "execution_count": 1,
   "id": "b45aa75c",
   "metadata": {},
   "outputs": [],
   "source": [
    "#ceating enpty class\n",
    "\n",
    "class Point:\n",
    "    pass"
   ]
  },
  {
   "cell_type": "code",
   "execution_count": 3,
   "id": "c7d7eed5",
   "metadata": {},
   "outputs": [
    {
     "name": "stdout",
     "output_type": "stream",
     "text": [
      "<class '__main__.Point'>\n"
     ]
    }
   ],
   "source": [
    "print(Point)"
   ]
  },
  {
   "cell_type": "code",
   "execution_count": 4,
   "id": "4abd6e4d",
   "metadata": {},
   "outputs": [
    {
     "name": "stdout",
     "output_type": "stream",
     "text": [
      "<__main__.Point object at 0x0000020DE423FD60>\n"
     ]
    }
   ],
   "source": [
    "p = Point()\n",
    "print(p)"
   ]
  },
  {
   "cell_type": "code",
   "execution_count": 6,
   "id": "1551757e",
   "metadata": {},
   "outputs": [
    {
     "name": "stdout",
     "output_type": "stream",
     "text": [
      "Enter the first point\n",
      "Enter x coordinate10\n",
      "Enter y coordinate20\n",
      "Enter the second point\n",
      "Enter x coordinate3\n",
      "Enter y coordinate5\n",
      "first point is : \n",
      "(10,20)\n",
      "first point is : \n",
      "(3,5)\n",
      "distance is : 16.5529 \n"
     ]
    }
   ],
   "source": [
    "#Program to calculate the distance between two points\n",
    "\n",
    "#we will define a class with three functions to read the points , print/display them and calculate their distance\n",
    "\n",
    "#import math library to get functions like square roots\n",
    "\n",
    "\n",
    "import math\n",
    "class Point:\n",
    "    \"\"\"This is a class point representing\n",
    "    coordinate points\"\"\"\n",
    "    \n",
    "#function to read a point\n",
    "\n",
    "def read_point(p):\n",
    "    p.x=float(input(\"Enter x coordinate\"))\n",
    "    p.y=float(input(\"Enter y coordinate\"))\n",
    "\n",
    "#function to display coordinates of the point\n",
    "\n",
    "def print_point(p):\n",
    "    print(\"(%g,%g)\"%(p.x,p.y))\n",
    "    \n",
    "#function to calculate the distance between the two points\n",
    "\n",
    "def distance(p1,p2):\n",
    "    d = math.sqrt((p1.x-p2.x)**2 +(p1.y-p2.y)**2)\n",
    "    return d\n",
    "\n",
    "#instantiate an object of class point\n",
    "p1 = Point()\n",
    "print(\"Enter the first point\")\n",
    "read_point(p1)\n",
    "\n",
    "p2 = Point()\n",
    "print(\"Enter the second point\")\n",
    "read_point(p2)\n",
    "\n",
    "print(\"first point is : \")\n",
    "print_point(p1)\n",
    "print(\"first point is : \")\n",
    "print_point(p2)\n",
    "\n",
    "print(\"distance is : %g \" %(distance(p1,p2)))\n",
    "      \n"
   ]
  },
  {
   "cell_type": "code",
   "execution_count": 2,
   "id": "7bd99115",
   "metadata": {},
   "outputs": [
    {
     "name": "stdout",
     "output_type": "stream",
     "text": [
      "Original rectangle is : \n",
      "width = 100,height = 200\n",
      "centre of the rectangle is : \n",
      "(50,100)\n",
      "rectangle after resize : \n",
      "width = 150,height = 270\n",
      "centre of the rectangle is : \n",
      "(75,135)\n"
     ]
    }
   ],
   "source": [
    "#Rectangle to illustrate that object of one class can be made as attribute to other\n",
    "\n",
    "# class point and class rectangle\n",
    "\n",
    "class Point:\n",
    "    \"\"\"This is a class point\n",
    "    representing a coordinate point\"\"\"\n",
    "    \n",
    "class Rectangle:\n",
    "    \"\"\"This is a class recttangle\n",
    "    attribute:width,height,point\"\"\"\n",
    "    \n",
    "def find_centre(rect):\n",
    "    p=Point()\n",
    "    p.x=rect.corner.x+rect.width/2\n",
    "    p.y=rect.corner.y+rect.height/2\n",
    "    return p\n",
    "\n",
    "def resize(rect,w,h):\n",
    "    rect.width +=w\n",
    "    rect.height +=h\n",
    "    \n",
    "def print_point(p):\n",
    "    print(\"(%g,%g)\"%(p.x,p.y))\n",
    "    \n",
    "box = Rectangle()\n",
    "box.corner = Point()\n",
    "box.width = 100\n",
    "box.height = 200\n",
    "\n",
    "#initialize corners to 0\n",
    "box.corner.x=0\n",
    "box.corner.y=0\n",
    "\n",
    "\n",
    "print(\"Original rectangle is : \")\n",
    "print(\"width = %g,height = %g\"%(box.width,box.height))\n",
    "\n",
    "centre = find_centre(box)\n",
    "print(\"centre of the rectangle is : \")\n",
    "print_point(centre)\n",
    "\n",
    "resize(box,50,70)\n",
    "print(\"rectangle after resize : \")\n",
    "print(\"width = %g,height = %g\"%(box.width,box.height))\n",
    "\n",
    "\n",
    "centre = find_centre(box)\n",
    "print(\"centre of the rectangle is : \")\n",
    "print_point(centre)\n"
   ]
  },
  {
   "cell_type": "code",
   "execution_count": 3,
   "id": "74c8bb91",
   "metadata": {},
   "outputs": [
    {
     "name": "stdout",
     "output_type": "stream",
     "text": [
      "<__main__.Point object at 0x0000027E6F6369A0>\n",
      "<__main__.Point object at 0x0000027E6F6369A0>\n",
      "True\n",
      "True\n",
      "<__main__.Point object at 0x0000027E6F6369A0>\n",
      "<__main__.Point object at 0x0000027E6F636730>\n",
      "False\n",
      "False\n"
     ]
    }
   ],
   "source": [
    "#aliasing\n",
    "\n",
    "class Point:\n",
    "    pass\n",
    "p1 = Point()\n",
    "p1.x = 10\n",
    "p1.y = 20\n",
    "p2 = p1\n",
    "\n",
    "print(p1)\n",
    "print(p2)\n",
    "\n",
    "print(p1 is p2)\n",
    "print(p1 == p2)\n",
    "#p1 and p2 both share the memory space, so they are aliased\n",
    "\n",
    "#import module copy and using method copy to copy objects without aliasing\n",
    "# we need the copy on object and not its alias\n",
    "\n",
    "\n",
    "\n",
    "import copy\n",
    "p3 = copy.copy(p1)\n",
    "\n",
    "print(p1)\n",
    "print(p3)\n",
    "\n",
    "print(p1 is p3)\n",
    "print(p1 == p3)\n",
    "\n",
    "#Equality == operator is also false since python doesn't understand equality operator on  "
   ]
  },
  {
   "cell_type": "code",
   "execution_count": 6,
   "id": "a3bbab90",
   "metadata": {},
   "outputs": [
    {
     "name": "stdout",
     "output_type": "stream",
     "text": [
      "False\n",
      "shallow copy result\n",
      "True\n",
      "False\n",
      "deepcopy result\n",
      "False\n"
     ]
    }
   ],
   "source": [
    "# what happens to copy module if an object is an attribute inside another object\n",
    "\n",
    "#shallow copy\n",
    "\n",
    "class Point:\n",
    "    \"\"\"this is class point\"\"\"\n",
    "    \n",
    "class Rectangle:\n",
    "    \"\"\"this is class rectangle\"\"\"\n",
    "    \n",
    "import copy\n",
    "\n",
    "box1 = Rectangle()\n",
    "box1.corner = Point()\n",
    "box1.width =100\n",
    "box1.height = 200\n",
    "box1.corner.x = 0\n",
    "box1.corner.y = 0\n",
    "\n",
    "box2 = copy.copy(box1)\n",
    "print(box1 is box2)\n",
    "\n",
    "print(\"shallow copy result\")\n",
    "print(box1.corner is box2.corner)\n",
    "\n",
    "\n",
    "#to avoid this we use deepcopy\n",
    "\n",
    "box3 = copy.deepcopy(box1)\n",
    "print(box1 is box3)\n",
    "print(\"deepcopy result\")\n",
    "print(box1.corner is box3.corner)\n",
    "\n",
    "#therefore aliasing is completely prevented"
   ]
  },
  {
   "cell_type": "code",
   "execution_count": 3,
   "id": "69cfc9ce",
   "metadata": {},
   "outputs": [
    {
     "ename": "AttributeError",
     "evalue": "'Rectangle' object has no attribute 'x'",
     "output_type": "error",
     "traceback": [
      "\u001b[1;31m---------------------------------------------------------------------------\u001b[0m",
      "\u001b[1;31mAttributeError\u001b[0m                            Traceback (most recent call last)",
      "\u001b[1;32m<ipython-input-3-d0958b0990d9>\u001b[0m in \u001b[0;36m<module>\u001b[1;34m\u001b[0m\n\u001b[0;32m      9\u001b[0m \u001b[0mbox1\u001b[0m\u001b[1;33m.\u001b[0m\u001b[0mcorner\u001b[0m\u001b[1;33m.\u001b[0m\u001b[0mx\u001b[0m \u001b[1;33m=\u001b[0m \u001b[1;36m0\u001b[0m\u001b[1;33m\u001b[0m\u001b[1;33m\u001b[0m\u001b[0m\n\u001b[0;32m     10\u001b[0m \u001b[0mbox1\u001b[0m\u001b[1;33m.\u001b[0m\u001b[0mcorner\u001b[0m\u001b[1;33m.\u001b[0m\u001b[0my\u001b[0m \u001b[1;33m=\u001b[0m \u001b[1;36m0\u001b[0m\u001b[1;33m\u001b[0m\u001b[1;33m\u001b[0m\u001b[0m\n\u001b[1;32m---> 11\u001b[1;33m \u001b[0mprint\u001b[0m\u001b[1;33m(\u001b[0m\u001b[0mbox1\u001b[0m\u001b[1;33m.\u001b[0m\u001b[0mx\u001b[0m\u001b[1;33m)\u001b[0m\u001b[1;33m\u001b[0m\u001b[1;33m\u001b[0m\u001b[0m\n\u001b[0m",
      "\u001b[1;31mAttributeError\u001b[0m: 'Rectangle' object has no attribute 'x'"
     ]
    }
   ],
   "source": [
    "class Point:\n",
    "    \"\"\"this is class point\"\"\"\n",
    "class Rectangle:\n",
    "    \"\"\"this is class rectangle\"\"\"\n",
    "box1 = Rectangle()\n",
    "box1.corner = Point()\n",
    "box1.width =100\n",
    "box1.height = 200\n",
    "box1.corner.x = 0\n",
    "box1.corner.y = 0\n",
    "\n",
    "\n",
    "print(box1.x)"
   ]
  },
  {
   "cell_type": "code",
   "execution_count": 5,
   "id": "ed78f828",
   "metadata": {},
   "outputs": [
    {
     "name": "stdout",
     "output_type": "stream",
     "text": [
      "<class '__main__.Rectangle'>\n",
      "True\n",
      "True\n"
     ]
    }
   ],
   "source": [
    "class Point:\n",
    "    \"\"\"this is class point\"\"\"\n",
    "class Rectangle:\n",
    "    \"\"\"this is class rectangle\"\"\"\n",
    "box1 = Rectangle()\n",
    "box1.corner = Point()\n",
    "box1.width =100\n",
    "box1.height = 200\n",
    "box1.corner.x = 0\n",
    "box1.corner.y = 0\n",
    "\n",
    "print(type(box1))\n",
    "\n",
    "print(isinstance(box1,Rectangle))\n",
    "\n",
    "print(hasattr(box1,'width'))"
   ]
  },
  {
   "cell_type": "code",
   "execution_count": 11,
   "id": "af06c745",
   "metadata": {},
   "outputs": [
    {
     "name": "stdout",
     "output_type": "stream",
     "text": [
      "Time1  is : \n",
      "10:34:25\n",
      "Time2  is : \n",
      "02:12:41\n",
      "After addng the two  time  objects : \n",
      "12:47:06\n"
     ]
    }
   ],
   "source": [
    "#Pure  functions\n",
    "\n",
    "#create a class time with hour,minute,second  ->  HH:MM:SS as attributes\n",
    "\n",
    "class  Time:\n",
    "    \"\"\"Represents time of the day\n",
    "    Attributes:hour,minutes,second\"\"\"\n",
    "    \n",
    "#function  to print  time\n",
    "\n",
    "def print_time(t):\n",
    "    print(\"%.2d:%.2d:%.2d\"%(t.hour,t.minute,t.second))\n",
    "    \n",
    "def add_time(t1,t2):\n",
    "    sum = Time()\n",
    "    sum.hour = t1.hour + t2.hour\n",
    "    sum.minute = t1.minute +t2.minute\n",
    "    sum.second = t1.second + t2.second\n",
    "    \n",
    "    if sum.second>=60:\n",
    "        sum.second -=60\n",
    "        sum.minute+=1\n",
    "    if sum.minute>=60:\n",
    "        sum.minute -=60\n",
    "        sum.hour+=1\n",
    "        \n",
    "    return sum\n",
    "\n",
    "t1 = Time()\n",
    "t1.hour = 10\n",
    "t1.minute = 34\n",
    "t1.second = 25\n",
    "print(\"Time1  is : \")\n",
    "print_time(t1)\n",
    "\n",
    "t2 = Time()\n",
    "t2.hour = 2\n",
    "t2.minute = 12\n",
    "t2.second = 41\n",
    "print(\"Time2  is : \")\n",
    "print_time(t2)\n",
    "\n",
    "t3 = add_time(t1,t2)\n",
    "print(\"After addng the two  time  objects : \")\n",
    "print_time(t3)"
   ]
  },
  {
   "cell_type": "code",
   "execution_count": 20,
   "id": "725a142b",
   "metadata": {},
   "outputs": [],
   "source": [
    "#Modifiers\n",
    "\n",
    "class  Time:  \n",
    "    \"\"\"Represents time of the day\n",
    "    Attributes:hour,minutes,second\"\"\"\n",
    "    \n",
    "#function  to print  time\n",
    "\n",
    "def print_time(t):\n",
    "    print(\"%.2d:%.2d:%.2d\"%(t.hour,t.minute,t.second))\n",
    "    \n",
    "\n",
    "def increment_time(t,seconds):\n",
    "    t.second +=  seconds\n",
    "    \n",
    "    while t.second >= 60:\n",
    "        t.second  -=  60\n",
    "        t.minute += 1\n",
    "        \n",
    "    while t.minute >= 60:\n",
    "        t.minute  -=  60\n",
    "        t.hour += 1\n"
   ]
  },
  {
   "cell_type": "code",
   "execution_count": 24,
   "id": "1574067c",
   "metadata": {},
   "outputs": [],
   "source": [
    "#debugging\n",
    "\n",
    "def valid_time(t):\n",
    "    if t.hour < 0 or t.minute < 0 or t.second < 0:\n",
    "        return False\n",
    "    if  t.minute > 60 or t.second > 60:\n",
    "        return False\n",
    "    return True\n",
    "\n",
    "def add_time(t1,t2):\n",
    "    if not  valid_time(t1) or not valid_time(t2):\n",
    "        raise ValueError('invalid Time Object')\n",
    "        # remaining statements of add time functions\n",
    "        \n",
    "#using assert to raise assertion error    \n",
    "\n",
    "def add_time(t1,t2):\n",
    "     assert valid_time(t1) and valid_time(t2)\n",
    "     \n",
    "     # remaining statements of add time functions\n",
    "        \n",
    "        \n",
    "        "
   ]
  },
  {
   "cell_type": "code",
   "execution_count": 6,
   "id": "f4062cf4",
   "metadata": {},
   "outputs": [
    {
     "name": "stdout",
     "output_type": "stream",
     "text": [
      "p1 is :  (10,20)\n",
      "p2 is :   (4,5)\n",
      "distance is  :   16.15549442140351\n"
     ]
    }
   ],
   "source": [
    "#class and method\n",
    "\n",
    "import math\n",
    "\n",
    "class Point:  \n",
    "    \n",
    "    #__init__() special method\n",
    "    #invoked immediately when new object is created\n",
    "    \n",
    "    \n",
    "    def __init__(self,a,b):\n",
    "        self.x = a\n",
    "        self.y = b\n",
    "    #an ordinary method to calculate distance between two points\n",
    "    \n",
    "    def dist(self,p2):\n",
    "        d = math.sqrt((self.x-p2.x)**2 +  (self.y-p2.y)**2)\n",
    "        return  d\n",
    "    \n",
    "    #__str__() special method\n",
    "    #invoked when print is  called on user defined objects  \n",
    "    #will return string format of what we have given inside it\n",
    "    \n",
    "    def __str__(self):\n",
    "        return \"(%d,%d)\"%(self.x,  self.y)\n",
    "    \n",
    "p1 = Point(10,20)  #__init__()\n",
    "p2 = Point(4,5)    #__init__()\n",
    "    \n",
    "print(\"p1 is : \",p1) #__str__()\n",
    "print(\"p2 is :  \",p2)  #__str__()\n",
    "    \n",
    "d  = p1.dist(p2)\n",
    "    \n",
    "print(\"distance is  :  \",d) #__str__()"
   ]
  },
  {
   "cell_type": "code",
   "execution_count": 9,
   "id": "af06d3cd",
   "metadata": {},
   "outputs": [
    {
     "name": "stdout",
     "output_type": "stream",
     "text": [
      "p1 is :  (10,20)\n",
      "p2 is :   (4,5)\n",
      "the sum is :  (14,25)\n"
     ]
    }
   ],
   "source": [
    "#adding two objects using operator overloading\n",
    "\n",
    "class Point:  \n",
    "    \n",
    "    #__init__() special method\n",
    "    #invoked immediately when new object is created\n",
    "    \n",
    "    # here the default value used for initialization is 0\n",
    "    def __init__(self,a =0,b=0):\n",
    "        self.x = a\n",
    "        self.y = b\n",
    "    \n",
    "    #operator overloading to add two points\n",
    "    \n",
    "    def __add__(self,p2):\n",
    "        p3 = Point()\n",
    "        p3.x  = self.x + p2.x\n",
    "        p3.y  =  self.y +  p2.y\n",
    "        return p3\n",
    "    \n",
    "    #__str__() special method\n",
    "    #invoked when print is  called on user defined objects  \n",
    "    #will return string format of what we have given inside it\n",
    "    \n",
    "    def __str__(self):\n",
    "        return \"(%d,%d)\"%(self.x,  self.y)\n",
    "    \n",
    "p1 = Point(10,20)  #__init__()\n",
    "p2 = Point(4,5)    #__init__()\n",
    "    \n",
    "print(\"p1 is : \",p1) #__str__()\n",
    "print(\"p2 is :  \",p2)  #__str__()\n",
    "\n",
    "#Operator overloading\n",
    "\n",
    "#internal meaning is p4 = p1.__add__(p4)\n",
    "p4 = p1 + p2  # + is the operator used to invoke special method __add__()\n",
    "\n",
    "print(\"the sum is : \",p4)"
   ]
  },
  {
   "cell_type": "code",
   "execution_count": 11,
   "id": "b6ff4bfc",
   "metadata": {},
   "outputs": [
    {
     "name": "stdout",
     "output_type": "stream",
     "text": [
      "  T1 is :  03:40:00\n",
      " T2 is :  05:45:00\n",
      "T1 == T2 :  False\n",
      "T1 + T2 is :  09:25:00\n",
      "T1 + 75 is :  03:41:15\n"
     ]
    }
   ],
   "source": [
    "#Program to add two time objects to understand operator overloading\n",
    "\n",
    "class Time:\n",
    "    \n",
    "        def __init__(self,h =0,m=0,s=0):\n",
    "            self.hour = h\n",
    "            self.min = m  \n",
    "            self.sec = s\n",
    "        \n",
    "    #convert the whole time to seconds\n",
    "    \n",
    "        def  time_to_int(self):\n",
    "            minute=self.hour*60+self.min\n",
    "            seconds = minute*60 + self.sec\n",
    "            return seconds\n",
    "        \n",
    "        def int_to_time(self,seconds):\n",
    "            t=Time()\n",
    "            minutes,t.sec=divmod(seconds,60)\n",
    "            t.hour,t.min=divmod(minutes,60)\n",
    "            return t\n",
    "        \n",
    "        def __str__(self):\n",
    "            return \"%.2d:%.2d:%.2d\"%(self.hour,self.min,self.sec)\n",
    "        \n",
    "        def __eq__(self,t):\n",
    "            return self.hour == t.hour and self.min == t.min and self.sec ==t.sec\n",
    "        \n",
    "        def __add__(self,t):\n",
    "            if isinstance(t,Time):\n",
    "                return self.addTime(t)\n",
    "            else:\n",
    "                return self.increment(t)\n",
    "            \n",
    "        def addTime(self,t):\n",
    "            seconds = self.time_to_int() + t.time_to_int()\n",
    "            return self.int_to_time(seconds)\n",
    "        \n",
    "        def increment(self,seconds):\n",
    "            seconds += self.time_to_int()\n",
    "            return self.int_to_time(seconds)\n",
    "        \n",
    "        def __raddd__(self,t):\n",
    "            return self.__add__(t)\n",
    "        \n",
    "        \n",
    "T1 = Time(3,40)\n",
    "T2 = Time(5,45)\n",
    "\n",
    "print(   \"  T1 is : \" , T1)\n",
    "print( \" T2 is : \" ,T2)\n",
    "\n",
    "print(\"T1 == T2 : \" , T1==T2)\n",
    "\n",
    "T3 = T1 + T2\n",
    "print(\"T1 + T2 is : \" , T3)\n",
    "\n",
    "T4 = T1 + 75\n",
    "print(\"T1 + 75 is : \" , T4)\n",
    "            "
   ]
  },
  {
   "cell_type": "code",
   "execution_count": null,
   "id": "b8112868",
   "metadata": {},
   "outputs": [],
   "source": []
  },
  {
   "cell_type": "code",
   "execution_count": null,
   "id": "6b43f4cb",
   "metadata": {},
   "outputs": [],
   "source": []
  },
  {
   "cell_type": "code",
   "execution_count": null,
   "id": "e99a6bbe",
   "metadata": {},
   "outputs": [],
   "source": []
  },
  {
   "cell_type": "code",
   "execution_count": null,
   "id": "6f8ee35c",
   "metadata": {},
   "outputs": [],
   "source": []
  }
 ],
 "metadata": {
  "kernelspec": {
   "display_name": "Python 3",
   "language": "python",
   "name": "python3"
  },
  "language_info": {
   "codemirror_mode": {
    "name": "ipython",
    "version": 3
   },
   "file_extension": ".py",
   "mimetype": "text/x-python",
   "name": "python",
   "nbconvert_exporter": "python",
   "pygments_lexer": "ipython3",
   "version": "3.8.5"
  }
 },
 "nbformat": 4,
 "nbformat_minor": 5
}
