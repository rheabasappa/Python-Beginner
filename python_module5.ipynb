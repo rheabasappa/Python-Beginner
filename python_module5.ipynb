{
 "cells": [
  {
   "cell_type": "code",
   "execution_count": 1,
   "id": "1844daba",
   "metadata": {},
   "outputs": [],
   "source": [
    "import socket"
   ]
  },
  {
   "cell_type": "code",
   "execution_count": null,
   "id": "8a277808",
   "metadata": {},
   "outputs": [],
   "source": [
    "#Retriving text from a web page"
   ]
  },
  {
   "cell_type": "code",
   "execution_count": 3,
   "id": "364a6448",
   "metadata": {},
   "outputs": [
    {
     "data": {
      "text/plain": [
       "47"
      ]
     },
     "execution_count": 3,
     "metadata": {},
     "output_type": "execute_result"
    }
   ],
   "source": [
    "mysock = socket.socket(socket.AF_INET,socket.SOCK_STREAM)\n",
    "mysock.connect(('data.pr4e.org',80))\n",
    "cmd = 'GET http://data.pr4e.org/romeo.txt HTTP/1.0\\r\\n\\r\\n'.encode()\n",
    "mysock.send(cmd)"
   ]
  },
  {
   "cell_type": "code",
   "execution_count": 4,
   "id": "be67596c",
   "metadata": {
    "scrolled": true
   },
   "outputs": [
    {
     "name": "stdout",
     "output_type": "stream",
     "text": [
      "HTTP/1.1 200 OK\r\n",
      "Date: Tue, 04 May 2021 08:00:07 GMT\r\n",
      "Server: Apache/2.4.18 (Ubuntu)\r\n",
      "Last-Modified: Sat, 13 May 2017 11:22:22 GMT\r\n",
      "ETag: \"a7-54f6609245537\"\r\n",
      "Accept-Ranges: bytes\r\n",
      "Content-Length: 167\r\n",
      "Cache-Control: max-age=0, no-cache, no-store, must-revalidate\r\n",
      "Pragma: no-cache\r\n",
      "Expires: Wed, 11 Jan 1984 05:00:00 GMT\r\n",
      "Connection: close\r\n",
      "Content-Type: text/plain\r\n",
      "\r\n",
      "But soft what light through yonder window breaks\n",
      "It is the east and Juliet is the sun\n",
      "Arise fair sun and kill the envious moon\n",
      "Who is already sick and pale with grief\n"
     ]
    }
   ],
   "source": [
    "while True:\n",
    "    data = mysock.recv(512)\n",
    "    if len(data)<1:\n",
    "        break\n",
    "        \n",
    "    print(data.decode(),end='')\n",
    "    \n",
    "mysock.close()"
   ]
  },
  {
   "cell_type": "code",
   "execution_count": 5,
   "id": "df51a613",
   "metadata": {},
   "outputs": [],
   "source": [
    "#retriving image over http"
   ]
  },
  {
   "cell_type": "code",
   "execution_count": 6,
   "id": "6e5d41ab",
   "metadata": {},
   "outputs": [],
   "source": [
    "import socket\n",
    "import time"
   ]
  },
  {
   "cell_type": "code",
   "execution_count": 19,
   "id": "5ba90c4a",
   "metadata": {},
   "outputs": [
    {
     "name": "stdout",
     "output_type": "stream",
     "text": [
      "5120 5120\n",
      "5120 10240\n",
      "5120 15360\n",
      "5120 20480\n",
      "5120 25600\n",
      "5120 30720\n",
      "5120 35840\n",
      "5120 40960\n",
      "5120 46080\n",
      "5120 51200\n",
      "5120 56320\n",
      "5120 61440\n",
      "5120 66560\n",
      "5120 71680\n",
      "5120 76800\n",
      "5120 81920\n",
      "5120 87040\n",
      "5120 92160\n",
      "5120 97280\n",
      "5120 102400\n",
      "5120 107520\n",
      "5120 112640\n",
      "5120 117760\n",
      "5120 122880\n",
      "5120 128000\n",
      "5120 133120\n",
      "5120 138240\n",
      "5120 143360\n",
      "5120 148480\n",
      "5120 153600\n",
      "5120 158720\n",
      "5120 163840\n",
      "5120 168960\n",
      "5120 174080\n",
      "5120 179200\n",
      "5120 184320\n",
      "5120 189440\n",
      "5120 194560\n",
      "5120 199680\n",
      "5120 204800\n",
      "5120 209920\n",
      "5120 215040\n",
      "5120 220160\n",
      "5120 225280\n",
      "5120 230400\n",
      "208 230608\n"
     ]
    }
   ],
   "source": [
    "host = 'data.pr4e.org'\n",
    "port = 80\n",
    "\n",
    "mysock = socket.socket(socket.AF_INET,socket.SOCK_STREAM)\n",
    "mysock.connect((host,port))\n",
    "\n",
    "mysock.sendall(b'GET http://data.pr4e.org/cover3.jpg HTTP/1.0\\r\\n\\r\\n')\n",
    "\n",
    "count = 0\n",
    "picture = b\"\"\n",
    "while True:\n",
    "    data = mysock.recv(5120)\n",
    "    if len(data)<1:\n",
    "        break\n",
    "        \n",
    "    time.sleep(0.25)\n",
    "    count = count+len(data)\n",
    "    print(len(data),count)\n",
    "    picture = picture +data\n",
    "mysock.close()   \n",
    "        "
   ]
  },
  {
   "cell_type": "code",
   "execution_count": 20,
   "id": "fafccb26",
   "metadata": {},
   "outputs": [
    {
     "name": "stdout",
     "output_type": "stream",
     "text": [
      "Header length 394\n",
      "HTTP/1.1 200 OK\r\n",
      "Date: Tue, 04 May 2021 08:24:32 GMT\r\n",
      "Server: Apache/2.4.18 (Ubuntu)\r\n",
      "Last-Modified: Mon, 15 May 2017 12:27:40 GMT\r\n",
      "ETag: \"38342-54f8f2e5b6277\"\r\n",
      "Accept-Ranges: bytes\r\n",
      "Content-Length: 230210\r\n",
      "Vary: Accept-Encoding\r\n",
      "Cache-Control: max-age=0, no-cache, no-store, must-revalidate\r\n",
      "Pragma: no-cache\r\n",
      "Expires: Wed, 11 Jan 1984 05:00:00 GMT\r\n",
      "Connection: close\r\n",
      "Content-Type: image/jpeg\n"
     ]
    }
   ],
   "source": [
    "pos = picture.find(b\"\\r\\n\\r\\n\")\n",
    "print('Header length',pos)\n",
    "print(picture[:pos].decode())"
   ]
  },
  {
   "cell_type": "code",
   "execution_count": 21,
   "id": "927f024f",
   "metadata": {},
   "outputs": [],
   "source": [
    "picture = picture[pos+4:]\n",
    "fhand = open(\"stuff.jpg\",\"wb\")\n",
    "fhand.write(picture)\n",
    "fhand.close()"
   ]
  },
  {
   "cell_type": "code",
   "execution_count": 22,
   "id": "c6e85e4c",
   "metadata": {},
   "outputs": [],
   "source": [
    "#retriving web pages with urllib\n",
    "\n",
    "import urllib.request"
   ]
  },
  {
   "cell_type": "code",
   "execution_count": 24,
   "id": "d4d1cd13",
   "metadata": {},
   "outputs": [
    {
     "name": "stdout",
     "output_type": "stream",
     "text": [
      "But soft what light through yonder window breaks\n",
      "It is the east and Juliet is the sun\n",
      "Arise fair sun and kill the envious moon\n",
      "Who is already sick and pale with grief\n"
     ]
    }
   ],
   "source": [
    "fhand = urllib.request.urlopen('http://data.pr4e.org/romeo.txt')\n",
    "\n",
    "for line in fhand:\n",
    "    print(line.decode().strip())"
   ]
  },
  {
   "cell_type": "code",
   "execution_count": 25,
   "id": "5fc2fb62",
   "metadata": {},
   "outputs": [
    {
     "name": "stdout",
     "output_type": "stream",
     "text": [
      "{'But': 1, 'soft': 1, 'what': 1, 'light': 1, 'through': 1, 'yonder': 1, 'window': 1, 'breaks': 1, 'It': 1, 'is': 3, 'the': 3, 'east': 1, 'and': 3, 'Juliet': 1, 'sun': 2, 'Arise': 1, 'fair': 1, 'kill': 1, 'envious': 1, 'moon': 1, 'Who': 1, 'already': 1, 'sick': 1, 'pale': 1, 'with': 1, 'grief': 1}\n"
     ]
    }
   ],
   "source": [
    "fhand = urllib.request.urlopen('http://data.pr4e.org/romeo.txt')\n",
    "counts = dict()\n",
    "for line in fhand:\n",
    "    words = line.decode().split()\n",
    "    for word in words:\n",
    "        counts[word] = counts.get(word,0)+1\n",
    "print(counts)"
   ]
  },
  {
   "cell_type": "code",
   "execution_count": 28,
   "id": "f8b7ad23",
   "metadata": {},
   "outputs": [],
   "source": [
    "img = urllib.request.urlopen('http://data.pr4e.org/cover3.jpg').read()\n",
    "\n",
    "fhand = open('cover3_1.jpg','wb')\n",
    "fhand.write(img)\n",
    "fhand.close()"
   ]
  },
  {
   "cell_type": "code",
   "execution_count": 30,
   "id": "60d1b38c",
   "metadata": {},
   "outputs": [
    {
     "name": "stdout",
     "output_type": "stream",
     "text": [
      "230210 characters copied\n"
     ]
    }
   ],
   "source": [
    "#data is read in chunks and then stored onto disk to avoid memory overflow\n",
    "\n",
    "img = urllib.request.urlopen('http://data.pr4e.org/cover3.jpg')\n",
    "\n",
    "fhand = open('cover3_2.jpg','wb')\n",
    "size =0\n",
    "\n",
    "while True:\n",
    "    info = img.read(100000)\n",
    "    if len(info) < 1:\n",
    "        break\n",
    "    size = size +len(info)\n",
    "    fhand.write(info)\n",
    "    \n",
    "print(size,'characters copied')\n",
    "fhand.close()"
   ]
  },
  {
   "cell_type": "code",
   "execution_count": 36,
   "id": "3b514363",
   "metadata": {},
   "outputs": [
    {
     "name": "stdout",
     "output_type": "stream",
     "text": [
      "enter - http://www.dr-chuck.com/page2.htm\n"
     ]
    }
   ],
   "source": [
    "#parsing html using regular expression\n",
    "\n",
    "import urllib.request\n",
    "import re\n",
    "\n",
    "url = input(\"enter - \") #give url of any website\n",
    "\n",
    "html = urllib.request.urlopen(url).read()\n",
    "links=re.findall(b'href=\"(http//.*?)\"',html)\n",
    "\n",
    "for link in links:\n",
    "    print(link.decode())"
   ]
  },
  {
   "cell_type": "code",
   "execution_count": 1,
   "id": "58afbd26",
   "metadata": {},
   "outputs": [],
   "source": [
    "#install Beautiful soup\n"
   ]
  },
  {
   "cell_type": "code",
   "execution_count": 1,
   "id": "ffe6b1fc",
   "metadata": {},
   "outputs": [],
   "source": [
    "import urllib.request"
   ]
  },
  {
   "cell_type": "code",
   "execution_count": 2,
   "id": "94d4cc52",
   "metadata": {},
   "outputs": [],
   "source": [
    "from bs4 import BeautifulSoup"
   ]
  },
  {
   "cell_type": "code",
   "execution_count": 3,
   "id": "5ad98e6f",
   "metadata": {},
   "outputs": [],
   "source": [
    "import ssl #secure socket layer"
   ]
  },
  {
   "cell_type": "code",
   "execution_count": 4,
   "id": "36dd8371",
   "metadata": {},
   "outputs": [],
   "source": [
    "ctx = ssl.create_default_context()\n",
    "ctx.check_hostname = False\n",
    "ctx.verify_mode = ssl.CERT_NONE"
   ]
  },
  {
   "cell_type": "code",
   "execution_count": 5,
   "id": "a8a91e0a",
   "metadata": {},
   "outputs": [
    {
     "name": "stdout",
     "output_type": "stream",
     "text": [
      "enterhttp://www.dr-chuck.com/page1.htm\n",
      "http://www.dr-chuck.com/page2.htm\n"
     ]
    }
   ],
   "source": [
    "url = input(\"enter\")\n",
    "html = urllib.request.urlopen(url,context=ctx).read()\n",
    "soup = BeautifulSoup(html,'html.parser')\n",
    "tags = soup('a')\n",
    "\n",
    "for tag in tags:\n",
    "    print(tag.get('href',None))"
   ]
  },
  {
   "cell_type": "code",
   "execution_count": 8,
   "id": "3582a680",
   "metadata": {},
   "outputs": [
    {
     "name": "stdout",
     "output_type": "stream",
     "text": [
      "enter http://www.dr-chuck.com/page1.htm\n",
      "TAG : <a href=\"http://www.dr-chuck.com/page2.htm\">\n",
      "Second Page</a>\n",
      "URL : http://www.dr-chuck.com/page2.htm\n",
      "Contents : \n",
      "Second Page\n",
      "Attrs :  {'href': 'http://www.dr-chuck.com/page2.htm'}\n"
     ]
    }
   ],
   "source": [
    "#to extact various parts of the tag using beautifulsoup\n",
    "\n",
    "ctx = ssl.create_default_context()\n",
    "ctx.check_hostname = False\n",
    "ctx.verify_mode = ssl.CERT_NONE\n",
    "url = input(\"enter \")\n",
    "html = urllib.request.urlopen(url,context=ctx).read()\n",
    "soup = BeautifulSoup(html,'html.parser')\n",
    "tags = soup('a')\n",
    "\n",
    "for tag in tags:\n",
    "    print('TAG :',tag)\n",
    "    print('URL :',tag.get('href',None))\n",
    "    print('Contents :',tag.contents[0])\n",
    "    print('Attrs : ',tag.attrs)\n",
    "    \n",
    "\n"
   ]
  },
  {
   "cell_type": "code",
   "execution_count": 10,
   "id": "152610ca",
   "metadata": {},
   "outputs": [],
   "source": [
    "# Parsing XML \n",
    "\n",
    "import xml.etree.ElementTree as ET\n",
    "\n",
    "#XML code embedded in a string format\n",
    "\n",
    "data = '''\n",
    "<person>\n",
    "<name>rhea</name>\n",
    "<phone type = \"inlt\">\n",
    "+1 734 303 4456\n",
    "</phone>\n",
    "<email hide = \"yes\"/>\n",
    "</person>'''\n"
   ]
  },
  {
   "cell_type": "code",
   "execution_count": 11,
   "id": "d19fef80",
   "metadata": {},
   "outputs": [
    {
     "name": "stdout",
     "output_type": "stream",
     "text": [
      "attribute from the tag email : yes\n",
      "attribute from the tag phone :  inlt\n"
     ]
    }
   ],
   "source": [
    "tree = ET.fromstring(data)\n",
    "print('attribute from the tag email :',tree.find('email').get('hide'))\n",
    "print('attribute from the tag phone : ',tree.find('phone').get('type'))"
   ]
  },
  {
   "cell_type": "code",
   "execution_count": 14,
   "id": "24dc8b00",
   "metadata": {},
   "outputs": [
    {
     "name": "stdout",
     "output_type": "stream",
     "text": [
      "User count :  2\n"
     ]
    }
   ],
   "source": [
    "#Looping through nodes and parrsing XML\n",
    "\n",
    "import xml.etree.ElementTree as ET\n",
    "\n",
    "#XML code embedded in a string format\n",
    "\n",
    "input = '''\n",
    "<stuff> \n",
    "   <users>\n",
    "      <user x ='2'> \n",
    "        <id>001</id>\n",
    "        <name>Rhea</name>\n",
    "      </user>\n",
    "      <user x ='7'> \n",
    "        <id>002</id>\n",
    "        <name>Shash</name>\n",
    "      </user>\n",
    "   </users>\n",
    "</stuff>\n",
    "'''\n",
    "\n",
    "stuff = ET.fromstring(input)\n",
    "lst = stuff.findall('users/user')\n",
    "print(\"User count : \",len(lst))\n",
    "\n"
   ]
  },
  {
   "cell_type": "code",
   "execution_count": 16,
   "id": "f8149609",
   "metadata": {},
   "outputs": [
    {
     "name": "stdout",
     "output_type": "stream",
     "text": [
      "Name :  Rhea\n",
      "id :  001\n",
      "attribute :  2\n",
      "Name :  Shash\n",
      "id :  002\n",
      "attribute :  7\n"
     ]
    }
   ],
   "source": [
    "for item in lst:\n",
    "    print('Name : ',item.find('name').text)\n",
    "    print('id : ',item.find('id').text)\n",
    "    print('attribute : ',item.get(\"x\"))"
   ]
  },
  {
   "cell_type": "code",
   "execution_count": 21,
   "id": "1cb4e3af",
   "metadata": {},
   "outputs": [],
   "source": [
    "#parsing JSON\n",
    "\n",
    "import json\n",
    "\n",
    "data = '''\n",
    "[\n",
    " { \"id\" : \"001\",\n",
    "    \"x\" : \"2\",\n",
    "    \"name\" : \"Rhea\"\n",
    " \n",
    " } ,\n",
    " {\n",
    "   \"id\" : \"002\",\n",
    "   \"x\" : \"7\",\n",
    "   \"name\" : \"Shash\"\n",
    " }\n",
    "]'''"
   ]
  },
  {
   "cell_type": "code",
   "execution_count": 22,
   "id": "313e825e",
   "metadata": {},
   "outputs": [
    {
     "name": "stdout",
     "output_type": "stream",
     "text": [
      "User Count :  2\n"
     ]
    }
   ],
   "source": [
    "info = json.loads(data)\n",
    "print('User Count : ',len(info))"
   ]
  },
  {
   "cell_type": "code",
   "execution_count": 23,
   "id": "7beed43e",
   "metadata": {},
   "outputs": [
    {
     "name": "stdout",
     "output_type": "stream",
     "text": [
      "name :  Rhea\n",
      "id :  001\n",
      "attibute :  2\n",
      "name :  Shash\n",
      "id :  002\n",
      "attibute :  7\n"
     ]
    }
   ],
   "source": [
    "for item in info:\n",
    "    print('name : ',item['name'])\n",
    "    print('id : ',item['id'])\n",
    "    print('attibute : ',item['x'])"
   ]
  },
  {
   "cell_type": "code",
   "execution_count": 1,
   "id": "927ad0d5",
   "metadata": {},
   "outputs": [],
   "source": [
    "#Examples for SQL statements"
   ]
  },
  {
   "cell_type": "code",
   "execution_count": 3,
   "id": "d29dbeb6",
   "metadata": {},
   "outputs": [],
   "source": [
    "import sqlite3"
   ]
  },
  {
   "cell_type": "code",
   "execution_count": 7,
   "id": "236722dd",
   "metadata": {},
   "outputs": [],
   "source": [
    "#Creating a Database Table\n",
    "\n",
    "conn = sqlite3.connect('music.sqlite')\n",
    "\n",
    "cur = conn.cursor()\n",
    "\n",
    "cur.execute('DROP TABLE IF EXISTS Tracks')\n",
    "\n",
    "cur.execute('CREATE TABLE Tracks(title TEXT, plays INTEGER)')\n",
    "conn.close()"
   ]
  },
  {
   "cell_type": "code",
   "execution_count": 5,
   "id": "a29fe0dd",
   "metadata": {},
   "outputs": [
    {
     "name": "stdout",
     "output_type": "stream",
     "text": [
      "Tracks : \n",
      "('Thunderstruck', 20)\n",
      "('My Way', 15)\n"
     ]
    }
   ],
   "source": [
    "#Creating a table, inserting two rows and deleting baased on condition \n",
    "\n",
    "import sqlite3\n",
    "\n",
    "\n",
    "conn = sqlite3.connect('music.sqlite')\n",
    "\n",
    "cur = conn.cursor()\n",
    "\n",
    "cur.execute('DROP TABLE IF EXISTS Tracks')\n",
    "\n",
    "cur.execute('CREATE TABLE Tracks(title TEXT, plays INTEGER)')\n",
    "\n",
    "cur.execute(\"INSERT INTO Tracks(title,plays) VALUES('Thunderstruck',20)\")\n",
    "\n",
    "cur.execute(\"INSERT INTO Tracks(title,plays) VALUES('My Way',15)\")\n",
    "#above statement can also be written as cur.execute(\"INSERT INTO Tracks(title,plays) VALUES(?,?)\",('My Way',15))\n",
    "#Can act as a placeholder wwhen taking input from the user\n",
    "conn.commit()\n",
    "            \n",
    "print(\"Tracks : \")\n",
    "            \n",
    "cur.execute(\"SELECT title, plays FROM Tracks\")\n",
    "for row in cur:\n",
    "            print(row)\n",
    "            \n",
    "cur.execute('DELETE FROM Tracks WHERE plays < 100')\n",
    "\n",
    "conn.close()"
   ]
  },
  {
   "cell_type": "code",
   "execution_count": 8,
   "id": "61caebb6",
   "metadata": {},
   "outputs": [
    {
     "data": {
      "text/plain": [
       "<function __main__.create_connection()>"
      ]
     },
     "execution_count": 8,
     "metadata": {},
     "output_type": "execute_result"
    }
   ],
   "source": [
    "#Error detection\n",
    "\n",
    "import sqlite3\n",
    "from sqlite3 import Error\n",
    "\n",
    "def create_connection():\n",
    "    \"\"\"crate a database connection to a database that resides\n",
    "    in the memory\"\"\"\n",
    "    \n",
    "    try:\n",
    "        conn = sqlite3.connect(':memory:')\n",
    "        print(\"SQLite Vesion:\",sqlite3.version)\n",
    "    except error as e:\n",
    "        print(e)\n",
    "    finally:\n",
    "        conn.close()\n",
    "create_connection"
   ]
  },
  {
   "cell_type": "code",
   "execution_count": 13,
   "id": "6b88e450",
   "metadata": {},
   "outputs": [
    {
     "name": "stdout",
     "output_type": "stream",
     "text": [
      "enter the number of records : 4\n",
      "Enter name : rrheea\n",
      "Enter age : 22\n",
      "Enter name : shash\n",
      "Enter age : 23\n",
      "Enter name : dhanu\n",
      "Enter age : 20\n",
      "Enter name : manoj\n",
      "Enter age : 19\n",
      "[('rrheea', 22), ('shash', 23), ('dhanu', 20), ('manoj', 19)]\n",
      "[('dhanu', 20)]\n"
     ]
    }
   ],
   "source": [
    "#Creating a student database table with student name and age\n",
    "\n",
    "#records n users\n",
    "\n",
    "#Displays studnets with age < 20\n",
    "\n",
    "\n",
    "import sqlite3\n",
    "\n",
    "conn = sqlite3.connect('StudentDB.db')\n",
    "c = conn.cursor()\n",
    "\n",
    "c.execute('CREATE TABLE tblstudent1(name TEXT, age INTEGER)')\n",
    "\n",
    "n = int(input('enter the number of records : '))\n",
    "\n",
    "for i in range(n):\n",
    "    nm = input(\"Enter name : \")\n",
    "    ag = int(input(\"Enter age : \"))\n",
    "    c.execute(\"INSERT INTO tblstudent1 VALUES(?,?)\",(nm,ag))\n",
    "    \n",
    "conn.commit()\n",
    "\n",
    "c.execute(\"select * from tblstudent1 \")\n",
    "print(c.fetchall())\n",
    "\n",
    "c.execute(\"select * from tblstudent1 where age = 20\")\n",
    "print(c.fetchall())\n",
    "\n",
    "conn.close()"
   ]
  },
  {
   "cell_type": "code",
   "execution_count": 4,
   "id": "bf2c103d",
   "metadata": {},
   "outputs": [
    {
     "name": "stdout",
     "output_type": "stream",
     "text": [
      "(1, 'rhea', 8, 34.0, 39.0, 40.0)\n"
     ]
    }
   ],
   "source": [
    "\n",
    "import sqlite3\n",
    "\n",
    "conn = sqlite3.connect('Student2DB.db')\n",
    "c = conn.cursor()\n",
    "\n",
    "c.execute('CREATE TABLE tblstudent4(rollno INTEGER PRIMARY KEY,name TEXT, age INTEGER,sem INTEGER,address TEXT)')\n",
    "c.execute('CREATE TABLE tblmarks1(rollno INTEGER,sem INTEGER,m1 REAL,m2 REAL,m3 REAL,UNIQUE(rollno,sem))')\n",
    "\n",
    "\n",
    "c.execute(\"INSERT INTO tblstudent4 VALUES(?,?,?,?,?)\",(1,'rhea',22,8,'Benagluru'))\n",
    "c.execute(\"INSERT INTO tblstudent4 VALUES(?,?,?,?,?)\",(2,'Shash',23,7,'nelamangala'))    \n",
    "c.execute(\"INSERT INTO tblstudent4 VALUES(?,?,?,?,?)\",(3,'dhanu',19,6,'jalahalli'))\n",
    "c.execute(\"INSERT INTO tblstudent4 VALUES(?,?,?,?,?)\",(4,'manoj',19,5,'indianaaga'))\n",
    "\n",
    "c.execute(\"INSERT INTO tblmarks1 VALUES(?,?,?,?,?)\",(1,8,34,39,40))\n",
    "c.execute(\"INSERT INTO tblmarks1 VALUES(?,?,?,?,?)\",(2,7,33,38,32))\n",
    "c.execute(\"INSERT INTO tblmarks1 VALUES(?,?,?,?,?)\",(3,6,33,34,35))\n",
    "c.execute(\"INSERT INTO tblmarks1 VALUES(?,?,?,?,?)\",(4,5,38,36,40))\n",
    "                                                       \n",
    "                                                       \n",
    "conn.commit()\n",
    "\n",
    "query = \"SELECT tblstudent4.rollno,tblstudent4.name,tblmarks1.sem,tblmarks1.m1,tblmarks1.m2,tblmarks1.m3 FROM tblstudent4 JOIN tblmarks1 ON tblstudent4.sem = tblmarks1.sem AND tblstudent4.rollno = tblmarks1.rollno WHERE tblstudent4.sem = 8\" \n",
    "\n",
    "c.execute(query)\n",
    "for row in c:\n",
    "        print(row)\n",
    "                                        \n",
    "\n",
    "conn.close()"
   ]
  },
  {
   "cell_type": "code",
   "execution_count": null,
   "id": "25627858",
   "metadata": {},
   "outputs": [],
   "source": []
  }
 ],
 "metadata": {
  "kernelspec": {
   "display_name": "Python 3",
   "language": "python",
   "name": "python3"
  },
  "language_info": {
   "codemirror_mode": {
    "name": "ipython",
    "version": 3
   },
   "file_extension": ".py",
   "mimetype": "text/x-python",
   "name": "python",
   "nbconvert_exporter": "python",
   "pygments_lexer": "ipython3",
   "version": "3.8.5"
  }
 },
 "nbformat": 4,
 "nbformat_minor": 5
}
