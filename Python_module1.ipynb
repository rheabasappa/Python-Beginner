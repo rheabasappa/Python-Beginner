{
 "cells": [
  {
   "cell_type": "code",
   "execution_count": 1,
   "id": "4366bafb",
   "metadata": {},
   "outputs": [
    {
     "name": "stdout",
     "output_type": "stream",
     "text": [
      "Hello World\n"
     ]
    }
   ],
   "source": [
    "print(\"Hello World\")"
   ]
  },
  {
   "cell_type": "code",
   "execution_count": 2,
   "id": "481a0188",
   "metadata": {},
   "outputs": [],
   "source": [
    "x = 10"
   ]
  },
  {
   "cell_type": "code",
   "execution_count": 3,
   "id": "fe554abc",
   "metadata": {},
   "outputs": [],
   "source": [
    "y = 2"
   ]
  },
  {
   "cell_type": "code",
   "execution_count": 4,
   "id": "1e8b15e3",
   "metadata": {},
   "outputs": [],
   "source": [
    "z = x + y"
   ]
  },
  {
   "cell_type": "code",
   "execution_count": 5,
   "id": "e5dfacd3",
   "metadata": {},
   "outputs": [
    {
     "name": "stdout",
     "output_type": "stream",
     "text": [
      "12\n"
     ]
    }
   ],
   "source": [
    "print(z)"
   ]
  },
  {
   "cell_type": "code",
   "execution_count": 6,
   "id": "36c72231",
   "metadata": {},
   "outputs": [
    {
     "data": {
      "text/plain": [
       "str"
      ]
     },
     "execution_count": 6,
     "metadata": {},
     "output_type": "execute_result"
    }
   ],
   "source": [
    "type(\"rhea\")"
   ]
  },
  {
   "cell_type": "code",
   "execution_count": 7,
   "id": "916ff210",
   "metadata": {},
   "outputs": [
    {
     "data": {
      "text/plain": [
       "int"
      ]
     },
     "execution_count": 7,
     "metadata": {},
     "output_type": "execute_result"
    }
   ],
   "source": [
    "type(1)"
   ]
  },
  {
   "cell_type": "code",
   "execution_count": 8,
   "id": "31040516",
   "metadata": {},
   "outputs": [
    {
     "data": {
      "text/plain": [
       "float"
      ]
     },
     "execution_count": 8,
     "metadata": {},
     "output_type": "execute_result"
    }
   ],
   "source": [
    "type(10.5)"
   ]
  },
  {
   "cell_type": "code",
   "execution_count": 11,
   "id": "dd1460f0",
   "metadata": {},
   "outputs": [
    {
     "data": {
      "text/plain": [
       "int"
      ]
     },
     "execution_count": 11,
     "metadata": {},
     "output_type": "execute_result"
    }
   ],
   "source": [
    "x=3\n",
    "type(x)"
   ]
  },
  {
   "cell_type": "code",
   "execution_count": 12,
   "id": "247f6d9c",
   "metadata": {},
   "outputs": [
    {
     "data": {
      "text/plain": [
       "str"
      ]
     },
     "execution_count": 12,
     "metadata": {},
     "output_type": "execute_result"
    }
   ],
   "source": [
    "x = \"HI\"\n",
    "type(x)"
   ]
  },
  {
   "cell_type": "code",
   "execution_count": 16,
   "id": "5b340a8e",
   "metadata": {},
   "outputs": [],
   "source": [
    "#variable creation rules and errors"
   ]
  },
  {
   "cell_type": "code",
   "execution_count": 13,
   "id": "6c6a2b06",
   "metadata": {},
   "outputs": [
    {
     "ename": "SyntaxError",
     "evalue": "invalid syntax (<ipython-input-13-083abb51b9d8>, line 1)",
     "output_type": "error",
     "traceback": [
      "\u001b[1;36m  File \u001b[1;32m\"<ipython-input-13-083abb51b9d8>\"\u001b[1;36m, line \u001b[1;32m1\u001b[0m\n\u001b[1;33m    if = 15\u001b[0m\n\u001b[1;37m       ^\u001b[0m\n\u001b[1;31mSyntaxError\u001b[0m\u001b[1;31m:\u001b[0m invalid syntax\n"
     ]
    }
   ],
   "source": [
    "if = 15"
   ]
  },
  {
   "cell_type": "code",
   "execution_count": 14,
   "id": "943b3b47",
   "metadata": {},
   "outputs": [
    {
     "ename": "SyntaxError",
     "evalue": "cannot assign to operator (<ipython-input-14-b29b2581896c>, line 1)",
     "output_type": "error",
     "traceback": [
      "\u001b[1;36m  File \u001b[1;32m\"<ipython-input-14-b29b2581896c>\"\u001b[1;36m, line \u001b[1;32m1\u001b[0m\n\u001b[1;33m    hello@wld = 12\u001b[0m\n\u001b[1;37m    ^\u001b[0m\n\u001b[1;31mSyntaxError\u001b[0m\u001b[1;31m:\u001b[0m cannot assign to operator\n"
     ]
    }
   ],
   "source": [
    "hello@wld = 12"
   ]
  },
  {
   "cell_type": "code",
   "execution_count": 16,
   "id": "15f6b564",
   "metadata": {},
   "outputs": [],
   "source": [
    "hello_wold6 = 15"
   ]
  },
  {
   "cell_type": "code",
   "execution_count": 18,
   "id": "987a5dce",
   "metadata": {},
   "outputs": [
    {
     "name": "stdout",
     "output_type": "stream",
     "text": [
      "0\n"
     ]
    }
   ],
   "source": [
    "x = 0\n",
    "y = 1\n",
    "z = x and y\n",
    "print(z)"
   ]
  },
  {
   "cell_type": "code",
   "execution_count": 17,
   "id": "4246de13",
   "metadata": {},
   "outputs": [],
   "source": [
    "#compound assignment operator"
   ]
  },
  {
   "cell_type": "code",
   "execution_count": 2,
   "id": "1ac91944",
   "metadata": {},
   "outputs": [
    {
     "name": "stdout",
     "output_type": "stream",
     "text": [
      "8\n"
     ]
    }
   ],
   "source": [
    "x = 3\n",
    "y = 5\n",
    "x = x + y\n",
    "print(x)"
   ]
  },
  {
   "cell_type": "code",
   "execution_count": 3,
   "id": "7054c65d",
   "metadata": {},
   "outputs": [
    {
     "name": "stdout",
     "output_type": "stream",
     "text": [
      "8\n"
     ]
    }
   ],
   "source": [
    "x = 3\n",
    "y = 5\n",
    "x += y\n",
    "print(x)"
   ]
  },
  {
   "cell_type": "code",
   "execution_count": 5,
   "id": "0e823796",
   "metadata": {},
   "outputs": [
    {
     "name": "stdout",
     "output_type": "stream",
     "text": [
      "x = 3 y = 4 st = hello\n"
     ]
    }
   ],
   "source": [
    "x,y,st = 3,4,\"hello\"\n",
    "print(\"x =\",x,\"y =\",y,\"st =\",st)"
   ]
  },
  {
   "cell_type": "code",
   "execution_count": 6,
   "id": "e79e8b0e",
   "metadata": {},
   "outputs": [
    {
     "data": {
      "text/plain": [
       "81"
      ]
     },
     "execution_count": 6,
     "metadata": {},
     "output_type": "execute_result"
    }
   ],
   "source": [
    "3**4"
   ]
  },
  {
   "cell_type": "code",
   "execution_count": 7,
   "id": "336aa35b",
   "metadata": {},
   "outputs": [
    {
     "data": {
      "text/plain": [
       "2417851639229258349412352"
      ]
     },
     "execution_count": 7,
     "metadata": {},
     "output_type": "execute_result"
    }
   ],
   "source": [
    "2**81"
   ]
  },
  {
   "cell_type": "code",
   "execution_count": 8,
   "id": "d568aad6",
   "metadata": {},
   "outputs": [
    {
     "data": {
      "text/plain": [
       "262144"
      ]
     },
     "execution_count": 8,
     "metadata": {},
     "output_type": "execute_result"
    }
   ],
   "source": [
    "4**3**2"
   ]
  },
  {
   "cell_type": "code",
   "execution_count": 9,
   "id": "c1aebe07",
   "metadata": {},
   "outputs": [
    {
     "name": "stdout",
     "output_type": "stream",
     "text": [
      "3245\n"
     ]
    },
    {
     "data": {
      "text/plain": [
       "str"
      ]
     },
     "execution_count": 9,
     "metadata": {},
     "output_type": "execute_result"
    }
   ],
   "source": [
    "x = \"32\"\n",
    "y = \"45\"\n",
    "z = x + y\n",
    "print(z)\n",
    "type(z)"
   ]
  },
  {
   "cell_type": "code",
   "execution_count": 13,
   "id": "0285afbe",
   "metadata": {},
   "outputs": [],
   "source": [
    "#to take input from a user"
   ]
  },
  {
   "cell_type": "code",
   "execution_count": 10,
   "id": "653e508b",
   "metadata": {},
   "outputs": [
    {
     "name": "stdout",
     "output_type": "stream",
     "text": [
      "enter a value:10\n"
     ]
    },
    {
     "data": {
      "text/plain": [
       "str"
      ]
     },
     "execution_count": 10,
     "metadata": {},
     "output_type": "execute_result"
    }
   ],
   "source": [
    "str1 = input(\"enter a value:\")\n",
    "type(str1)"
   ]
  },
  {
   "cell_type": "code",
   "execution_count": 15,
   "id": "d580c6d8",
   "metadata": {},
   "outputs": [
    {
     "data": {
      "text/plain": [
       "'input are of type string\\ntype is expliciitly stated at the begnnng off input to get otthe typess of input'"
      ]
     },
     "execution_count": 15,
     "metadata": {},
     "output_type": "execute_result"
    }
   ],
   "source": [
    "'''input are of type string\n",
    "type is expliciitly stated at the begnnng off input to get otthe typess of input'''"
   ]
  },
  {
   "cell_type": "code",
   "execution_count": 11,
   "id": "0b2a44b0",
   "metadata": {},
   "outputs": [
    {
     "name": "stdout",
     "output_type": "stream",
     "text": [
      "enter a value:10\n"
     ]
    },
    {
     "data": {
      "text/plain": [
       "int"
      ]
     },
     "execution_count": 11,
     "metadata": {},
     "output_type": "execute_result"
    }
   ],
   "source": [
    "str2 = int(input(\"enter a value:\"))\n",
    "type(str2)\n"
   ]
  },
  {
   "cell_type": "code",
   "execution_count": 1,
   "id": "62c51e5c",
   "metadata": {},
   "outputs": [
    {
     "data": {
      "text/plain": [
       "False"
      ]
     },
     "execution_count": 1,
     "metadata": {},
     "output_type": "execute_result"
    }
   ],
   "source": [
    "x = 10\n",
    "y = 12\n",
    "\n",
    "x == y"
   ]
  },
  {
   "cell_type": "code",
   "execution_count": 2,
   "id": "10e4bd44",
   "metadata": {},
   "outputs": [
    {
     "data": {
      "text/plain": [
       "bool"
      ]
     },
     "execution_count": 2,
     "metadata": {},
     "output_type": "execute_result"
    }
   ],
   "source": [
    "type(True)"
   ]
  },
  {
   "cell_type": "code",
   "execution_count": 3,
   "id": "c88abd5c",
   "metadata": {},
   "outputs": [
    {
     "name": "stdout",
     "output_type": "stream",
     "text": [
      "x and y is False\n"
     ]
    }
   ],
   "source": [
    "x  = True\n",
    "y= False\n",
    "print('x and y is', x and y)\n",
    "\n"
   ]
  },
  {
   "cell_type": "code",
   "execution_count": 4,
   "id": "4f553d20",
   "metadata": {},
   "outputs": [
    {
     "name": "stdout",
     "output_type": "stream",
     "text": [
      "x or y is True\n"
     ]
    }
   ],
   "source": [
    "print('x or y is', x or y)\n"
   ]
  },
  {
   "cell_type": "code",
   "execution_count": 5,
   "id": "c994b6fa",
   "metadata": {},
   "outputs": [
    {
     "name": "stdout",
     "output_type": "stream",
     "text": [
      "Complement of x is  False\n"
     ]
    }
   ],
   "source": [
    "print('Complement of x is ', not x)"
   ]
  },
  {
   "cell_type": "code",
   "execution_count": 1,
   "id": "b6abbe5c",
   "metadata": {},
   "outputs": [
    {
     "name": "stderr",
     "output_type": "stream",
     "text": [
      "<>:1: SyntaxWarning: \"is\" with a literal. Did you mean \"==\"?\n",
      "<>:1: SyntaxWarning: \"is\" with a literal. Did you mean \"==\"?\n",
      "<ipython-input-1-364032124ae6>:1: SyntaxWarning: \"is\" with a literal. Did you mean \"==\"?\n",
      "  10 is 10\n"
     ]
    },
    {
     "data": {
      "text/plain": [
       "True"
      ]
     },
     "execution_count": 1,
     "metadata": {},
     "output_type": "execute_result"
    }
   ],
   "source": [
    "10 is 10"
   ]
  },
  {
   "cell_type": "code",
   "execution_count": 2,
   "id": "f90a030d",
   "metadata": {},
   "outputs": [
    {
     "data": {
      "text/plain": [
       "True"
      ]
     },
     "execution_count": 2,
     "metadata": {},
     "output_type": "execute_result"
    }
   ],
   "source": [
    "10 == 10"
   ]
  },
  {
   "cell_type": "code",
   "execution_count": 3,
   "id": "47835764",
   "metadata": {},
   "outputs": [],
   "source": [
    "x = 10\n",
    "y = 10"
   ]
  },
  {
   "cell_type": "code",
   "execution_count": 4,
   "id": "42860770",
   "metadata": {},
   "outputs": [
    {
     "data": {
      "text/plain": [
       "True"
      ]
     },
     "execution_count": 4,
     "metadata": {},
     "output_type": "execute_result"
    }
   ],
   "source": [
    "x == y"
   ]
  },
  {
   "cell_type": "code",
   "execution_count": 5,
   "id": "41093818",
   "metadata": {},
   "outputs": [
    {
     "data": {
      "text/plain": [
       "True"
      ]
     },
     "execution_count": 5,
     "metadata": {},
     "output_type": "execute_result"
    }
   ],
   "source": [
    "x is y "
   ]
  },
  {
   "cell_type": "code",
   "execution_count": 6,
   "id": "34ef9b9a",
   "metadata": {},
   "outputs": [
    {
     "data": {
      "text/plain": [
       "True"
      ]
     },
     "execution_count": 6,
     "metadata": {},
     "output_type": "execute_result"
    }
   ],
   "source": [
    "z = y\n",
    "x is z"
   ]
  },
  {
   "cell_type": "code",
   "execution_count": 7,
   "id": "95eea11d",
   "metadata": {},
   "outputs": [],
   "source": [
    "#conditional execution\n",
    "#1. Basic Condition: If Statement"
   ]
  },
  {
   "cell_type": "code",
   "execution_count": 8,
   "id": "3719e2e0",
   "metadata": {},
   "outputs": [
    {
     "name": "stdout",
     "output_type": "stream",
     "text": [
      "Fail\n"
     ]
    }
   ],
   "source": [
    "x  = 10\n",
    "if x<40:\n",
    "    print(\"Fail\")"
   ]
  },
  {
   "cell_type": "code",
   "execution_count": 11,
   "id": "a6065cd0",
   "metadata": {},
   "outputs": [
    {
     "name": "stdout",
     "output_type": "stream",
     "text": [
      "Enter a intege10\n",
      "Fail\n"
     ]
    }
   ],
   "source": [
    "#2. Alternative Execution : If - Else Statements\n",
    "\n",
    "x = int(input(\"Enter a intege\")) \n",
    "if x < 40:\n",
    "    print(\"Fail\")\n",
    "else:\n",
    "    print(\"Pass\")"
   ]
  },
  {
   "cell_type": "code",
   "execution_count": 1,
   "id": "d27bf11e",
   "metadata": {},
   "outputs": [
    {
     "name": "stdout",
     "output_type": "stream",
     "text": [
      "enter marks46\n",
      "second Class\n"
     ]
    }
   ],
   "source": [
    "#3. Chained conditionals: if - elif - else\n",
    "\n",
    "x = int(input(\"enter marks\"))\n",
    "if x >= 60:\n",
    "    print(\"FCD\")\n",
    "elif x>=50 and x < 60:\n",
    "    print(\"first Class\")\n",
    "elif x >= 40 and x < 50:\n",
    "    print(\"second Class\")\n",
    "else:\n",
    "    print(\"fail\")"
   ]
  },
  {
   "cell_type": "code",
   "execution_count": 2,
   "id": "dd0a8aa5",
   "metadata": {},
   "outputs": [
    {
     "name": "stdout",
     "output_type": "stream",
     "text": [
      "Enter marks35\n",
      "Fail\n"
     ]
    }
   ],
   "source": [
    "#4. Nested Conditionals\n",
    "x = int(input(\"Enter marks\"))\n",
    "if x>=50:\n",
    "    if x >= 60:\n",
    "        print(\"First Class\")\n",
    "    else:\n",
    "        print(\"Second Class\")\n",
    "else:\n",
    "    if x>= 40:\n",
    "        print(\"pass\")\n",
    "    else:\n",
    "        print(\"Fail\")\n",
    "    "
   ]
  },
  {
   "cell_type": "code",
   "execution_count": 5,
   "id": "05a5a9a4",
   "metadata": {},
   "outputs": [
    {
     "name": "stdout",
     "output_type": "stream",
     "text": [
      "a2\n",
      "b4\n",
      "0.5\n"
     ]
    }
   ],
   "source": [
    "#catching Exceptions using try and except\n",
    "a = int(input(\"a\"))\n",
    "b = int(input(\"b\"))\n",
    "try:\n",
    "    c = a/b\n",
    "    print(c)\n",
    "except:\n",
    "    print(\"Check the number 2 \")"
   ]
  },
  {
   "cell_type": "code",
   "execution_count": 7,
   "id": "fcccf679",
   "metadata": {
    "scrolled": true
   },
   "outputs": [
    {
     "name": "stdout",
     "output_type": "stream",
     "text": [
      "a3\n",
      "b0\n",
      "Check b \n"
     ]
    }
   ],
   "source": [
    "a = int(input(\"a\"))\n",
    "b = int(input(\"b\"))\n",
    "try:\n",
    "    c = a/b\n",
    "    print(c)\n",
    "except:\n",
    "    print(\"Check b \")"
   ]
  },
  {
   "cell_type": "code",
   "execution_count": 11,
   "id": "1e7e85be",
   "metadata": {},
   "outputs": [
    {
     "data": {
      "text/plain": [
       "13"
      ]
     },
     "execution_count": 11,
     "metadata": {},
     "output_type": "execute_result"
    }
   ],
   "source": [
    "#Functions\n",
    "#1. Built in functions\n",
    "max(10,12,13)\n"
   ]
  },
  {
   "cell_type": "code",
   "execution_count": 12,
   "id": "e691b4da",
   "metadata": {},
   "outputs": [
    {
     "data": {
      "text/plain": [
       "10"
      ]
     },
     "execution_count": 12,
     "metadata": {},
     "output_type": "execute_result"
    }
   ],
   "source": [
    "min(10,12,13)\n"
   ]
  },
  {
   "cell_type": "code",
   "execution_count": 13,
   "id": "3647bfe6",
   "metadata": {},
   "outputs": [
    {
     "data": {
      "text/plain": [
       "15"
      ]
     },
     "execution_count": 13,
     "metadata": {},
     "output_type": "execute_result"
    }
   ],
   "source": [
    "len(\"My name is rhea\")"
   ]
  },
  {
   "cell_type": "code",
   "execution_count": 15,
   "id": "0aea86d2",
   "metadata": {},
   "outputs": [
    {
     "name": "stdout",
     "output_type": "stream",
     "text": [
      "3\n",
      "42.0\n"
     ]
    }
   ],
   "source": [
    "#Type conversion Functions\n",
    "\n",
    "\n",
    "print(int(3.8))\n",
    "print(float(42))"
   ]
  },
  {
   "cell_type": "code",
   "execution_count": 16,
   "id": "b6195dba",
   "metadata": {},
   "outputs": [
    {
     "name": "stdout",
     "output_type": "stream",
     "text": [
      "0.7872877623245699\n",
      "26\n",
      "-5\n"
     ]
    }
   ],
   "source": [
    "#Pseudo - Random Numbers\n",
    "\n",
    "import random\n",
    "print(random.random())\n",
    "print(random.randint(2,30))\n",
    "t=[1,7,-5,8,67,44,3000]\n",
    "print(random.choice(t))"
   ]
  },
  {
   "cell_type": "code",
   "execution_count": 18,
   "id": "fed10799",
   "metadata": {},
   "outputs": [
    {
     "name": "stdout",
     "output_type": "stream",
     "text": [
      "0.8939966636005579\n",
      "1.0\n"
     ]
    }
   ],
   "source": [
    "#math functions\n",
    "import math\n",
    "print(math.sin(90))\n",
    "print(math.sin(90*math.pi/180))"
   ]
  },
  {
   "cell_type": "code",
   "execution_count": 19,
   "id": "1c56490c",
   "metadata": {},
   "outputs": [],
   "source": [
    "#exmple : User defined function\n",
    "\n",
    "def myfun():\n",
    "    print(\"my first function\")"
   ]
  },
  {
   "cell_type": "code",
   "execution_count": 20,
   "id": "b0a09997",
   "metadata": {},
   "outputs": [
    {
     "name": "stdout",
     "output_type": "stream",
     "text": [
      "calling my function\n",
      "my first function\n",
      "successful call completion\n"
     ]
    }
   ],
   "source": [
    "print(\"calling my function\")\n",
    "myfun()\n",
    "print(\"successful call completion\")"
   ]
  },
  {
   "cell_type": "code",
   "execution_count": 23,
   "id": "d9627c9f",
   "metadata": {},
   "outputs": [],
   "source": [
    "#single argument function\n",
    "\n",
    "def hi_name(var):\n",
    "    print(\"hi\",var,\", How are you\")"
   ]
  },
  {
   "cell_type": "code",
   "execution_count": 24,
   "id": "c96f03b9",
   "metadata": {},
   "outputs": [
    {
     "name": "stdout",
     "output_type": "stream",
     "text": [
      "testing function\n",
      "hi Rhea , How are you\n",
      "hi Shash , How are you\n",
      "test complete\n"
     ]
    }
   ],
   "source": [
    "print(\"testing function\")\n",
    "x = \"Rhea\"\n",
    "hi_name(x)\n",
    "hi_name(\"Shash\")\n",
    "print(\"test complete\")\n"
   ]
  },
  {
   "cell_type": "code",
   "execution_count": 25,
   "id": "19b2e854",
   "metadata": {},
   "outputs": [],
   "source": [
    "#fruitful functions\n",
    "\n",
    "def sum1(a,b):\n",
    "    return a+b\n",
    "\n"
   ]
  },
  {
   "cell_type": "code",
   "execution_count": 26,
   "id": "5f7e5d1f",
   "metadata": {},
   "outputs": [
    {
     "name": "stdout",
     "output_type": "stream",
     "text": [
      "without assigning variable\n",
      "complete\n"
     ]
    }
   ],
   "source": [
    "print(\"without assigning variable\")\n",
    "sum1(2,3)\n",
    "print(\"complete\")"
   ]
  },
  {
   "cell_type": "code",
   "execution_count": 27,
   "id": "c1019dd0",
   "metadata": {},
   "outputs": [
    {
     "name": "stdout",
     "output_type": "stream",
     "text": [
      "assigning variable\n",
      "5\n",
      "complete\n"
     ]
    }
   ],
   "source": [
    "print(\"assigning variable\")\n",
    "s= sum1(2,3)\n",
    "print(s)\n",
    "print(\"complete\")"
   ]
  },
  {
   "cell_type": "code",
   "execution_count": null,
   "id": "23b55460",
   "metadata": {},
   "outputs": [],
   "source": []
  }
 ],
 "metadata": {
  "kernelspec": {
   "display_name": "Python 3",
   "language": "python",
   "name": "python3"
  },
  "language_info": {
   "codemirror_mode": {
    "name": "ipython",
    "version": 3
   },
   "file_extension": ".py",
   "mimetype": "text/x-python",
   "name": "python",
   "nbconvert_exporter": "python",
   "pygments_lexer": "ipython3",
   "version": "3.8.5"
  }
 },
 "nbformat": 4,
 "nbformat_minor": 5
}
